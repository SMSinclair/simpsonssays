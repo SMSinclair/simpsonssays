{
 "cells": [
  {
   "cell_type": "markdown",
   "metadata": {},
   "source": [
    "## Import data, inspect, drop NaN rows"
   ]
  },
  {
   "cell_type": "code",
   "execution_count": 1,
   "metadata": {},
   "outputs": [],
   "source": [
    "import pandas as pd"
   ]
  },
  {
   "cell_type": "code",
   "execution_count": 2,
   "metadata": {},
   "outputs": [
    {
     "data": {
      "text/html": [
       "<div>\n",
       "<style scoped>\n",
       "    .dataframe tbody tr th:only-of-type {\n",
       "        vertical-align: middle;\n",
       "    }\n",
       "\n",
       "    .dataframe tbody tr th {\n",
       "        vertical-align: top;\n",
       "    }\n",
       "\n",
       "    .dataframe thead th {\n",
       "        text-align: right;\n",
       "    }\n",
       "</style>\n",
       "<table border=\"1\" class=\"dataframe\">\n",
       "  <thead>\n",
       "    <tr style=\"text-align: right;\">\n",
       "      <th></th>\n",
       "      <th>raw_character_text</th>\n",
       "      <th>spoken_words</th>\n",
       "    </tr>\n",
       "  </thead>\n",
       "  <tbody>\n",
       "    <tr>\n",
       "      <td>0</td>\n",
       "      <td>Miss Hoover</td>\n",
       "      <td>No, actually, it was a little of both. Sometim...</td>\n",
       "    </tr>\n",
       "    <tr>\n",
       "      <td>1</td>\n",
       "      <td>Lisa Simpson</td>\n",
       "      <td>Where's Mr. Bergstrom?</td>\n",
       "    </tr>\n",
       "    <tr>\n",
       "      <td>2</td>\n",
       "      <td>Miss Hoover</td>\n",
       "      <td>I don't know. Although I'd sure like to talk t...</td>\n",
       "    </tr>\n",
       "    <tr>\n",
       "      <td>3</td>\n",
       "      <td>Lisa Simpson</td>\n",
       "      <td>That life is worth living.</td>\n",
       "    </tr>\n",
       "    <tr>\n",
       "      <td>4</td>\n",
       "      <td>Edna Krabappel-Flanders</td>\n",
       "      <td>The polls will be open from now until the end ...</td>\n",
       "    </tr>\n",
       "  </tbody>\n",
       "</table>\n",
       "</div>"
      ],
      "text/plain": [
       "        raw_character_text                                       spoken_words\n",
       "0              Miss Hoover  No, actually, it was a little of both. Sometim...\n",
       "1             Lisa Simpson                             Where's Mr. Bergstrom?\n",
       "2              Miss Hoover  I don't know. Although I'd sure like to talk t...\n",
       "3             Lisa Simpson                         That life is worth living.\n",
       "4  Edna Krabappel-Flanders  The polls will be open from now until the end ..."
      ]
     },
     "execution_count": 2,
     "metadata": {},
     "output_type": "execute_result"
    }
   ],
   "source": [
    "lines = pd.read_csv('simpsons_dataset.csv')\n",
    "lines.head()"
   ]
  },
  {
   "cell_type": "code",
   "execution_count": 5,
   "metadata": {},
   "outputs": [
    {
     "data": {
      "text/plain": [
       "raw_character_text    17814\n",
       "spoken_words          26459\n",
       "dtype: int64"
      ]
     },
     "execution_count": 5,
     "metadata": {},
     "output_type": "execute_result"
    }
   ],
   "source": [
    "lines.isnull().sum()"
   ]
  },
  {
   "cell_type": "code",
   "execution_count": 6,
   "metadata": {},
   "outputs": [
    {
     "data": {
      "text/plain": [
       "(158314, 2)"
      ]
     },
     "execution_count": 6,
     "metadata": {},
     "output_type": "execute_result"
    }
   ],
   "source": [
    "lines.shape"
   ]
  },
  {
   "cell_type": "code",
   "execution_count": 7,
   "metadata": {},
   "outputs": [
    {
     "data": {
      "text/plain": [
       "raw_character_text    0\n",
       "spoken_words          0\n",
       "dtype: int64"
      ]
     },
     "execution_count": 7,
     "metadata": {},
     "output_type": "execute_result"
    }
   ],
   "source": [
    "lines = lines.dropna()\n",
    "lines.isnull().sum()"
   ]
  },
  {
   "cell_type": "code",
   "execution_count": 8,
   "metadata": {},
   "outputs": [
    {
     "data": {
      "text/plain": [
       "(131853, 2)"
      ]
     },
     "execution_count": 8,
     "metadata": {},
     "output_type": "execute_result"
    }
   ],
   "source": [
    "lines.shape"
   ]
  },
  {
   "cell_type": "markdown",
   "metadata": {},
   "source": [
    "## Import spacy, create a list of docs and a list of their vectors"
   ]
  },
  {
   "cell_type": "code",
   "execution_count": 9,
   "metadata": {},
   "outputs": [],
   "source": [
    "import spacy"
   ]
  },
  {
   "cell_type": "code",
   "execution_count": 10,
   "metadata": {},
   "outputs": [],
   "source": [
    "docs = []\n",
    "nlp = spacy.load('en_core_web_lg')"
   ]
  },
  {
   "cell_type": "code",
   "execution_count": 11,
   "metadata": {},
   "outputs": [],
   "source": [
    "count = 0\n",
    "for doc in nlp.pipe(lines['spoken_words'].values):\n",
    "    docs.append(doc)"
   ]
  },
  {
   "cell_type": "code",
   "execution_count": 12,
   "metadata": {},
   "outputs": [],
   "source": [
    "vectors = [doc.vector for doc in docs]"
   ]
  },
  {
   "cell_type": "markdown",
   "metadata": {},
   "source": [
    "### Add vectors to lines df"
   ]
  },
  {
   "cell_type": "code",
   "execution_count": 13,
   "metadata": {},
   "outputs": [],
   "source": [
    "lines['vectors'] = vectors"
   ]
  },
  {
   "cell_type": "markdown",
   "metadata": {},
   "source": [
    "## Initialize a KNN model and fit on the vectors"
   ]
  },
  {
   "cell_type": "code",
   "execution_count": 14,
   "metadata": {},
   "outputs": [],
   "source": [
    "from sklearn.neighbors import NearestNeighbors"
   ]
  },
  {
   "cell_type": "code",
   "execution_count": 15,
   "metadata": {},
   "outputs": [
    {
     "data": {
      "text/plain": [
       "NearestNeighbors(algorithm='ball_tree', leaf_size=30, metric='minkowski',\n",
       "                 metric_params=None, n_jobs=None, n_neighbors=5, p=2,\n",
       "                 radius=1.0)"
      ]
     },
     "execution_count": 15,
     "metadata": {},
     "output_type": "execute_result"
    }
   ],
   "source": [
    "nn  = NearestNeighbors(n_neighbors=5, algorithm='ball_tree')\n",
    "nn.fit(vectors)"
   ]
  },
  {
   "cell_type": "markdown",
   "metadata": {},
   "source": [
    "## Functions to get vectors/find quotes"
   ]
  },
  {
   "cell_type": "code",
   "execution_count": 16,
   "metadata": {},
   "outputs": [],
   "source": [
    "def get_vectors_of_string(inp_str):\n",
    "    return nlp(inp_str).vector"
   ]
  },
  {
   "cell_type": "code",
   "execution_count": 18,
   "metadata": {},
   "outputs": [],
   "source": [
    "def find_quotes(inp_str):\n",
    "    vect = get_vectors_of_string(inp_str)\n",
    "    closest_quotes = nn.kneighbors([vect])\n",
    "    return lines.iloc[closest_quotes[1][0]]"
   ]
  },
  {
   "cell_type": "markdown",
   "metadata": {},
   "source": [
    "## Check if the functions are cromulent"
   ]
  },
  {
   "cell_type": "code",
   "execution_count": 25,
   "metadata": {},
   "outputs": [
    {
     "data": {
      "text/html": [
       "<div>\n",
       "<style scoped>\n",
       "    .dataframe tbody tr th:only-of-type {\n",
       "        vertical-align: middle;\n",
       "    }\n",
       "\n",
       "    .dataframe tbody tr th {\n",
       "        vertical-align: top;\n",
       "    }\n",
       "\n",
       "    .dataframe thead th {\n",
       "        text-align: right;\n",
       "    }\n",
       "</style>\n",
       "<table border=\"1\" class=\"dataframe\">\n",
       "  <thead>\n",
       "    <tr style=\"text-align: right;\">\n",
       "      <th></th>\n",
       "      <th>raw_character_text</th>\n",
       "      <th>spoken_words</th>\n",
       "      <th>vectors</th>\n",
       "    </tr>\n",
       "  </thead>\n",
       "  <tbody>\n",
       "    <tr>\n",
       "      <td>34275</td>\n",
       "      <td>Hank Scorpio</td>\n",
       "      <td>That might... Matter of fact, they're all in t...</td>\n",
       "      <td>[-0.0005717829, 0.19351904, -0.08779617, -0.11...</td>\n",
       "    </tr>\n",
       "    <tr>\n",
       "      <td>146256</td>\n",
       "      <td>Lisa Simpson</td>\n",
       "      <td>Well, I guess we've learned that of all the co...</td>\n",
       "      <td>[0.012387499, 0.08285451, -0.12590693, -0.1315...</td>\n",
       "    </tr>\n",
       "    <tr>\n",
       "      <td>150012</td>\n",
       "      <td>Dr. Marvin Monroe</td>\n",
       "      <td>Everyone comfy? Good. Now, don't touch any of ...</td>\n",
       "      <td>[0.0024357901, 0.19450384, -0.22521602, -0.034...</td>\n",
       "    </tr>\n",
       "    <tr>\n",
       "      <td>131254</td>\n",
       "      <td>Lisa Simpson</td>\n",
       "      <td>Well sure life is full of pain and drudgery, b...</td>\n",
       "      <td>[0.04056196, 0.1639796, -0.13865817, -0.102411...</td>\n",
       "    </tr>\n",
       "    <tr>\n",
       "      <td>146613</td>\n",
       "      <td>Lisa Simpson</td>\n",
       "      <td>That's so sad. Maybe we're the same, two lost ...</td>\n",
       "      <td>[0.055236608, 0.12521951, -0.11474382, -0.0670...</td>\n",
       "    </tr>\n",
       "  </tbody>\n",
       "</table>\n",
       "</div>"
      ],
      "text/plain": [
       "       raw_character_text                                       spoken_words  \\\n",
       "34275        Hank Scorpio  That might... Matter of fact, they're all in t...   \n",
       "146256       Lisa Simpson  Well, I guess we've learned that of all the co...   \n",
       "150012  Dr. Marvin Monroe  Everyone comfy? Good. Now, don't touch any of ...   \n",
       "131254       Lisa Simpson  Well sure life is full of pain and drudgery, b...   \n",
       "146613       Lisa Simpson  That's so sad. Maybe we're the same, two lost ...   \n",
       "\n",
       "                                                  vectors  \n",
       "34275   [-0.0005717829, 0.19351904, -0.08779617, -0.11...  \n",
       "146256  [0.012387499, 0.08285451, -0.12590693, -0.1315...  \n",
       "150012  [0.0024357901, 0.19450384, -0.22521602, -0.034...  \n",
       "131254  [0.04056196, 0.1639796, -0.13865817, -0.102411...  \n",
       "146613  [0.055236608, 0.12521951, -0.11474382, -0.0670...  "
      ]
     },
     "execution_count": 25,
     "metadata": {},
     "output_type": "execute_result"
    }
   ],
   "source": [
    "find_quotes(\"matter of fact, they're all in the hammock complex\")"
   ]
  },
  {
   "cell_type": "code",
   "execution_count": 24,
   "metadata": {},
   "outputs": [
    {
     "data": {
      "text/plain": [
       "\"That might... Matter of fact, they're all in the same complex. It's the Hammock Complex, down on Third?\""
      ]
     },
     "execution_count": 24,
     "metadata": {},
     "output_type": "execute_result"
    }
   ],
   "source": [
    "lines.loc[34275]['spoken_words']"
   ]
  },
  {
   "cell_type": "code",
   "execution_count": 29,
   "metadata": {},
   "outputs": [
    {
     "data": {
      "text/html": [
       "<div>\n",
       "<style scoped>\n",
       "    .dataframe tbody tr th:only-of-type {\n",
       "        vertical-align: middle;\n",
       "    }\n",
       "\n",
       "    .dataframe tbody tr th {\n",
       "        vertical-align: top;\n",
       "    }\n",
       "\n",
       "    .dataframe thead th {\n",
       "        text-align: right;\n",
       "    }\n",
       "</style>\n",
       "<table border=\"1\" class=\"dataframe\">\n",
       "  <thead>\n",
       "    <tr style=\"text-align: right;\">\n",
       "      <th></th>\n",
       "      <th>raw_character_text</th>\n",
       "      <th>spoken_words</th>\n",
       "      <th>vectors</th>\n",
       "    </tr>\n",
       "  </thead>\n",
       "  <tbody>\n",
       "    <tr>\n",
       "      <td>136565</td>\n",
       "      <td>Lisa Simpson</td>\n",
       "      <td>It came with fries or salad.</td>\n",
       "      <td>[-0.16468573, 0.16284688, 0.08980615, -0.17369...</td>\n",
       "    </tr>\n",
       "    <tr>\n",
       "      <td>46218</td>\n",
       "      <td>Kent Brockman</td>\n",
       "      <td>Good luck, kids. Where the hell's my grilled c...</td>\n",
       "      <td>[-0.119722456, 0.16942002, -0.061315738, -0.09...</td>\n",
       "    </tr>\n",
       "    <tr>\n",
       "      <td>82906</td>\n",
       "      <td>ROBOT WARS ANNOUNCER #2</td>\n",
       "      <td>Congratulations to our winning father-and-son ...</td>\n",
       "      <td>[-0.0970903, 0.18714643, 0.014011727, 0.041308...</td>\n",
       "    </tr>\n",
       "    <tr>\n",
       "      <td>73692</td>\n",
       "      <td>Homer Simpson</td>\n",
       "      <td>Certainly, Lenford. Make every day a celebrati...</td>\n",
       "      <td>[-0.058565103, 0.15718296, -0.046536416, 0.017...</td>\n",
       "    </tr>\n",
       "    <tr>\n",
       "      <td>132356</td>\n",
       "      <td>Unidentified Baldwin</td>\n",
       "      <td>You guys suck at acting and you ate all the po...</td>\n",
       "      <td>[-0.2541025, 0.03132107, -0.11368286, -0.12731...</td>\n",
       "    </tr>\n",
       "  </tbody>\n",
       "</table>\n",
       "</div>"
      ],
      "text/plain": [
       "             raw_character_text  \\\n",
       "136565             Lisa Simpson   \n",
       "46218             Kent Brockman   \n",
       "82906   ROBOT WARS ANNOUNCER #2   \n",
       "73692             Homer Simpson   \n",
       "132356     Unidentified Baldwin   \n",
       "\n",
       "                                             spoken_words  \\\n",
       "136565                       It came with fries or salad.   \n",
       "46218   Good luck, kids. Where the hell's my grilled c...   \n",
       "82906   Congratulations to our winning father-and-son ...   \n",
       "73692   Certainly, Lenford. Make every day a celebrati...   \n",
       "132356  You guys suck at acting and you ate all the po...   \n",
       "\n",
       "                                                  vectors  \n",
       "136565  [-0.16468573, 0.16284688, 0.08980615, -0.17369...  \n",
       "46218   [-0.119722456, 0.16942002, -0.061315738, -0.09...  \n",
       "82906   [-0.0970903, 0.18714643, 0.014011727, 0.041308...  \n",
       "73692   [-0.058565103, 0.15718296, -0.046536416, 0.017...  \n",
       "132356  [-0.2541025, 0.03132107, -0.11368286, -0.12731...  "
      ]
     },
     "execution_count": 29,
     "metadata": {},
     "output_type": "execute_result"
    }
   ],
   "source": [
    "find_quotes(\"win friends with salad\")"
   ]
  },
  {
   "cell_type": "code",
   "execution_count": 27,
   "metadata": {},
   "outputs": [
    {
     "data": {
      "text/html": [
       "<div>\n",
       "<style scoped>\n",
       "    .dataframe tbody tr th:only-of-type {\n",
       "        vertical-align: middle;\n",
       "    }\n",
       "\n",
       "    .dataframe tbody tr th {\n",
       "        vertical-align: top;\n",
       "    }\n",
       "\n",
       "    .dataframe thead th {\n",
       "        text-align: right;\n",
       "    }\n",
       "</style>\n",
       "<table border=\"1\" class=\"dataframe\">\n",
       "  <thead>\n",
       "    <tr style=\"text-align: right;\">\n",
       "      <th></th>\n",
       "      <th>raw_character_text</th>\n",
       "      <th>spoken_words</th>\n",
       "      <th>vectors</th>\n",
       "    </tr>\n",
       "  </thead>\n",
       "  <tbody>\n",
       "    <tr>\n",
       "      <td>153503</td>\n",
       "      <td>Homer Simpson</td>\n",
       "      <td>Smothered pork chops.</td>\n",
       "      <td>[-0.38019222, -0.1277625, 0.34242252, 0.077048...</td>\n",
       "    </tr>\n",
       "    <tr>\n",
       "      <td>49564</td>\n",
       "      <td>Homer Simpson</td>\n",
       "      <td>Steamed Maine cabbages!</td>\n",
       "      <td>[-0.277914, -0.041433744, -0.075511254, -0.372...</td>\n",
       "    </tr>\n",
       "    <tr>\n",
       "      <td>32674</td>\n",
       "      <td>Gary Chalmers</td>\n",
       "      <td>For \"steamed hams.\"</td>\n",
       "      <td>[-0.20388983, 0.04237333, -0.18209751, -0.1394...</td>\n",
       "    </tr>\n",
       "    <tr>\n",
       "      <td>32664</td>\n",
       "      <td>Gary Chalmers</td>\n",
       "      <td>You call hamburgers \"steamed hams?\"</td>\n",
       "      <td>[-0.22379924, 0.09646686, -0.088719375, 0.0168...</td>\n",
       "    </tr>\n",
       "    <tr>\n",
       "      <td>110504</td>\n",
       "      <td>Moe Szyslak</td>\n",
       "      <td>Ham sandwiches!</td>\n",
       "      <td>[-0.33784032, -0.18016668, 0.46686664, 0.22452...</td>\n",
       "    </tr>\n",
       "  </tbody>\n",
       "</table>\n",
       "</div>"
      ],
      "text/plain": [
       "       raw_character_text                         spoken_words  \\\n",
       "153503      Homer Simpson                Smothered pork chops.   \n",
       "49564       Homer Simpson              Steamed Maine cabbages!   \n",
       "32674       Gary Chalmers                  For \"steamed hams.\"   \n",
       "32664       Gary Chalmers  You call hamburgers \"steamed hams?\"   \n",
       "110504        Moe Szyslak                      Ham sandwiches!   \n",
       "\n",
       "                                                  vectors  \n",
       "153503  [-0.38019222, -0.1277625, 0.34242252, 0.077048...  \n",
       "49564   [-0.277914, -0.041433744, -0.075511254, -0.372...  \n",
       "32674   [-0.20388983, 0.04237333, -0.18209751, -0.1394...  \n",
       "32664   [-0.22379924, 0.09646686, -0.088719375, 0.0168...  \n",
       "110504  [-0.33784032, -0.18016668, 0.46686664, 0.22452...  "
      ]
     },
     "execution_count": 27,
     "metadata": {},
     "output_type": "execute_result"
    }
   ],
   "source": [
    "find_quotes(\"steamed hams\")"
   ]
  },
  {
   "cell_type": "code",
   "execution_count": 30,
   "metadata": {},
   "outputs": [
    {
     "data": {
      "text/html": [
       "<div>\n",
       "<style scoped>\n",
       "    .dataframe tbody tr th:only-of-type {\n",
       "        vertical-align: middle;\n",
       "    }\n",
       "\n",
       "    .dataframe tbody tr th {\n",
       "        vertical-align: top;\n",
       "    }\n",
       "\n",
       "    .dataframe thead th {\n",
       "        text-align: right;\n",
       "    }\n",
       "</style>\n",
       "<table border=\"1\" class=\"dataframe\">\n",
       "  <thead>\n",
       "    <tr style=\"text-align: right;\">\n",
       "      <th></th>\n",
       "      <th>raw_character_text</th>\n",
       "      <th>spoken_words</th>\n",
       "      <th>vectors</th>\n",
       "    </tr>\n",
       "  </thead>\n",
       "  <tbody>\n",
       "    <tr>\n",
       "      <td>152056</td>\n",
       "      <td>Homer Simpson</td>\n",
       "      <td>Please, please kids. Stop fighting. Maybe Lisa...</td>\n",
       "      <td>[-0.09950939, 0.18024185, -0.12073283, -0.0673...</td>\n",
       "    </tr>\n",
       "    <tr>\n",
       "      <td>3707</td>\n",
       "      <td>Dave</td>\n",
       "      <td>Aw, that's the spirit, Mr. Simpson. Now step o...</td>\n",
       "      <td>[-7.059774e-05, 0.207665, -0.13998467, -0.0446...</td>\n",
       "    </tr>\n",
       "    <tr>\n",
       "      <td>15742</td>\n",
       "      <td>Lizzie Borden</td>\n",
       "      <td>We've heard enough. Your honor, we find that H...</td>\n",
       "      <td>[-0.01593856, 0.16347897, -0.12644829, -0.1271...</td>\n",
       "    </tr>\n",
       "    <tr>\n",
       "      <td>156711</td>\n",
       "      <td>Seymour Skinner</td>\n",
       "      <td>I think the real question is who is this and w...</td>\n",
       "      <td>[-0.03951687, 0.26348725, -0.1547953, -0.09261...</td>\n",
       "    </tr>\n",
       "    <tr>\n",
       "      <td>131586</td>\n",
       "      <td>Lisa Simpson</td>\n",
       "      <td>Dad, the story of the passion is the cornersto...</td>\n",
       "      <td>[-0.022304649, 0.15845042, -0.12650898, -0.110...</td>\n",
       "    </tr>\n",
       "  </tbody>\n",
       "</table>\n",
       "</div>"
      ],
      "text/plain": [
       "       raw_character_text                                       spoken_words  \\\n",
       "152056      Homer Simpson  Please, please kids. Stop fighting. Maybe Lisa...   \n",
       "3707                 Dave  Aw, that's the spirit, Mr. Simpson. Now step o...   \n",
       "15742       Lizzie Borden  We've heard enough. Your honor, we find that H...   \n",
       "156711    Seymour Skinner  I think the real question is who is this and w...   \n",
       "131586       Lisa Simpson  Dad, the story of the passion is the cornersto...   \n",
       "\n",
       "                                                  vectors  \n",
       "152056  [-0.09950939, 0.18024185, -0.12073283, -0.0673...  \n",
       "3707    [-7.059774e-05, 0.207665, -0.13998467, -0.0446...  \n",
       "15742   [-0.01593856, 0.16347897, -0.12644829, -0.1271...  \n",
       "156711  [-0.03951687, 0.26348725, -0.1547953, -0.09261...  \n",
       "131586  [-0.022304649, 0.15845042, -0.12650898, -0.110...  "
      ]
     },
     "execution_count": 30,
     "metadata": {},
     "output_type": "execute_result"
    }
   ],
   "source": [
    "find_quotes(\"maybe lisa is right that America is the land of opportunity\")"
   ]
  },
  {
   "cell_type": "code",
   "execution_count": 31,
   "metadata": {},
   "outputs": [
    {
     "data": {
      "text/plain": [
       "\"Please, please kids. Stop fighting. Maybe Lisa's right about America being a land of opportunity, and maybe Adil has a point about the machinery of capitalism being oiled with the blood of the workers.\""
      ]
     },
     "execution_count": 31,
     "metadata": {},
     "output_type": "execute_result"
    }
   ],
   "source": [
    "lines.loc[152056]['spoken_words']"
   ]
  }
 ],
 "metadata": {
  "kernelspec": {
   "display_name": "simpsonssays",
   "language": "python",
   "name": "simpsonssays"
  },
  "language_info": {
   "codemirror_mode": {
    "name": "ipython",
    "version": 3
   },
   "file_extension": ".py",
   "mimetype": "text/x-python",
   "name": "python",
   "nbconvert_exporter": "python",
   "pygments_lexer": "ipython3",
   "version": "3.7.4"
  }
 },
 "nbformat": 4,
 "nbformat_minor": 2
}
